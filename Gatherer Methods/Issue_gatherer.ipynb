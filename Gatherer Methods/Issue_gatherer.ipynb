{
 "cells": [
  {
   "cell_type": "code",
   "execution_count": 1,
   "metadata": {},
   "outputs": [],
   "source": [
    "import pandas as pd\n",
    "import requests\n",
    "import json\n",
    "import os"
   ]
  },
  {
   "cell_type": "markdown",
   "metadata": {},
   "source": [
    "OWNER = \"dronekit\"\n",
    "REPO = \"dronekit-python\"\n",
    "#url = \"http://api.github.com/repos/\" + OWNER + \"/\" + REPO + \"/issues?state=closed&per_page=100&page=1\"\n",
    "url = \"http://api.github.com/repos/\" + OWNER + \"/\" + REPO + \"/issues?state=closed&per_page=100&page=\" "
   ]
  },
  {
   "cell_type": "code",
   "execution_count": 2,
   "metadata": {},
   "outputs": [],
   "source": [
    "repositories = [(\"felixge\", \"node-ar-drone\"), \n",
    "                (\"dronekit\", \"dronekit-python\"), \n",
    "                (\"scorelab\",\"DroneSym\"), \n",
    "                (\"alduxvm\",\"DronePilot\"), \n",
    "                (\"hybridgroup\",\"cylon\"), \n",
    "                (\"pypilot\",\"pypilot\"), \n",
    "                (\"commaai\",\"openpilot\"), \n",
    "                (\"hybridgroup\",\"gobot\"), \n",
    "                (\"rwaldron\",\"johnny-five\"), \n",
    "                (\"ROBOTIS-GIT\",\"turtlebot3\"), \n",
    "                (\"Hypfer\",\"Valetudo\"), \n",
    "                (\"Ardumower\",\"ardumower\"), \n",
    "                (\"gnea\",\"grbl\")]\n",
    "test_repositories = [(\"felixge\", \"node-ar-drone\")]"
   ]
  },
  {
   "cell_type": "markdown",
   "metadata": {},
   "source": [
    "With the following REST request we collect the latest 100 closed issues. As 100 is the maximum of issues that can be fetched we would need a loop with further rest requests and an additional increasing page=1 parameter."
   ]
  },
  {
   "cell_type": "code",
   "execution_count": 3,
   "metadata": {},
   "outputs": [
    {
     "name": "stdout",
     "output_type": "stream",
     "text": [
      "/Users/timschluchter/Google Drive/HS 20/Software Maintenance and Evolution/Project/hcirevivalgroup/Gatherer Methods\n"
     ]
    },
    {
     "ename": "FileExistsError",
     "evalue": "[Errno 17] File exists: '/Users/timschluchter/Google Drive/HS 20/Software Maintenance and Evolution/Project/hcirevivalgroup/Gatherer Methods\\\\collected_issues'",
     "output_type": "error",
     "traceback": [
      "\u001b[0;31m---------------------------------------------------------------------------\u001b[0m",
      "\u001b[0;31mFileExistsError\u001b[0m                           Traceback (most recent call last)",
      "\u001b[0;32m<ipython-input-3-472bb37e4d47>\u001b[0m in \u001b[0;36m<module>\u001b[0;34m\u001b[0m\n\u001b[1;32m      4\u001b[0m \u001b[0;34m\u001b[0m\u001b[0m\n\u001b[1;32m      5\u001b[0m \u001b[0;32mif\u001b[0m \u001b[0;32mnot\u001b[0m \u001b[0mos\u001b[0m\u001b[0;34m.\u001b[0m\u001b[0mpath\u001b[0m\u001b[0;34m.\u001b[0m\u001b[0misdir\u001b[0m\u001b[0;34m(\u001b[0m\u001b[0;34m\"collected_issues\"\u001b[0m\u001b[0;34m)\u001b[0m\u001b[0;34m:\u001b[0m\u001b[0;34m\u001b[0m\u001b[0;34m\u001b[0m\u001b[0m\n\u001b[0;32m----> 6\u001b[0;31m     \u001b[0mos\u001b[0m\u001b[0;34m.\u001b[0m\u001b[0mmkdir\u001b[0m\u001b[0;34m(\u001b[0m\u001b[0mpath\u001b[0m\u001b[0;34m)\u001b[0m\u001b[0;34m\u001b[0m\u001b[0;34m\u001b[0m\u001b[0m\n\u001b[0m\u001b[1;32m      7\u001b[0m \u001b[0;34m\u001b[0m\u001b[0m\n\u001b[1;32m      8\u001b[0m \u001b[0;31m#setting working directory\u001b[0m\u001b[0;34m\u001b[0m\u001b[0;34m\u001b[0m\u001b[0;34m\u001b[0m\u001b[0m\n",
      "\u001b[0;31mFileExistsError\u001b[0m: [Errno 17] File exists: '/Users/timschluchter/Google Drive/HS 20/Software Maintenance and Evolution/Project/hcirevivalgroup/Gatherer Methods\\\\collected_issues'"
     ]
    }
   ],
   "source": [
    "current_path = os.getcwd()\n",
    "print(current_path)\n",
    "path = current_path + \"\\collected_issues\"\n",
    "\n",
    "if not os.path.isdir(\"collected_issues\"):\n",
    "    os.mkdir(path) \n",
    "    \n",
    "#setting working directory\n",
    "if not (current_path.endswith(\"collected_issues\")):\n",
    "    os.chdir(path)"
   ]
  },
  {
   "cell_type": "code",
   "execution_count": 4,
   "metadata": {},
   "outputs": [],
   "source": [
    "def collectAllIssuesOfRepo(owner, repo):\n",
    "    url = \"http://api.github.com/repos/\" + owner + \"/\" + repo + \"/issues?state=closed&per_page=100&page=\" \n",
    "    current_page = 2\n",
    "\n",
    "    response = requests.post(url+\"1\")\n",
    "\n",
    "    if (response != None) & (response.status_code == 200):\n",
    "        #getting max page number\n",
    "        \n",
    "        #if more than 1 page\n",
    "        if \"link\" in response.headers:\n",
    "            links = response.headers[\"link\"].split(\",\")\n",
    "            max_page_nr = int(links[-1].split(\";\")[0][-2])\n",
    "            \n",
    "        #if only 1 page    \n",
    "        else:\n",
    "            max_page_nr = current_page\n",
    "    \n",
    "        data = pd.read_json(url+str(1))\n",
    "\n",
    "        while current_page <= max_page_nr:\n",
    "            response = requests.post(url+str(current_page))\n",
    "            data = data.append(pd.read_json(url+str(current_page)))\n",
    "            current_page += 1\n",
    "\n",
    "        data.to_csv('issues_' + repo + '.csv')\n",
    "        print('successfully created csv for: ', repo)\n",
    "\n",
    "    else:\n",
    "        print(response.status_code)"
   ]
  },
  {
   "cell_type": "code",
   "execution_count": 5,
   "metadata": {},
   "outputs": [
    {
     "name": "stdout",
     "output_type": "stream",
     "text": [
      "successfully created csv for:  grbl\n"
     ]
    }
   ],
   "source": [
    "for (owner, repo) in repositories:\n",
    "    collectAllIssuesOfRepo(owner, repo)"
   ]
  },
  {
   "cell_type": "code",
   "execution_count": null,
   "metadata": {},
   "outputs": [],
   "source": []
  }
 ],
 "metadata": {
  "kernelspec": {
   "display_name": "Python 3",
   "language": "python",
   "name": "python3"
  },
  "language_info": {
   "codemirror_mode": {
    "name": "ipython",
    "version": 3
   },
   "file_extension": ".py",
   "mimetype": "text/x-python",
   "name": "python",
   "nbconvert_exporter": "python",
   "pygments_lexer": "ipython3",
   "version": "3.7.6"
  }
 },
 "nbformat": 4,
 "nbformat_minor": 2
}
