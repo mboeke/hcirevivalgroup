{
 "cells": [
  {
   "cell_type": "code",
   "execution_count": 2,
   "metadata": {},
   "outputs": [],
   "source": [
    "import pandas as pd\n",
    "import requests\n",
    "import json\n",
    "import os"
   ]
  },
  {
   "cell_type": "code",
   "execution_count": 47,
   "metadata": {},
   "outputs": [],
   "source": [
    "OWNER = \"dronekit\"\n",
    "REPO = \"dronekit-python\""
   ]
  },
  {
   "cell_type": "markdown",
   "metadata": {},
   "source": [
    "With the following REST request we collect the latest 100 closed issues. As 100 is the maximum of issues that can be fetched we would need a loop with further rest requests and an additional increasing page=1 parameter."
   ]
  },
  {
   "cell_type": "code",
   "execution_count": 74,
   "metadata": {},
   "outputs": [
    {
     "name": "stdout",
     "output_type": "stream",
     "text": [
      "C:\\Users\\timsc\\Google Drive\\HS 20\\Software Maintenance and Evolution\\Project\\hcirevivalgroup\\collected_issues\n"
     ]
    }
   ],
   "source": [
    "current_path = os.getcwd()\n",
    "print(current_path)\n",
    "path = current_path + \"\\collected_issues\"\n",
    "\n",
    "if not os.path.isdir(\"/collected_issues\"):\n",
    "    os.mkdir(path) \n",
    "    \n",
    "#setting working directory\n",
    "if not (current_path.endswith(\"collected_issues\")):\n",
    "    os.chdir(path)\n",
    "    \n",
    "current_page = 1\n",
    "\n",
    "#url = \"http://api.github.com/repos/\" + OWNER + \"/\" + REPO + \"/issues?state=closed&per_page=100&page=1\"\n",
    "url = \"http://api.github.com/repos/\" + OWNER + \"/\" + REPO + \"/issues?state=closed&per_page=100&page=\" \n",
    "\n",
    "response = requests.post(url+str(current_page))\n",
    "    \n",
    "if (response != None) & (response.status_code == 200):\n",
    "    #getting max page number\n",
    "    links = response.headers[\"link\"].split(\",\")\n",
    "    max_page_nr = int(links[-1].split(\";\")[0][-2])\n",
    "\n",
    "    while current_page <= max_page_nr:\n",
    "        response = requests.post(url+str(current_page))\n",
    "        data = data.append(pd.read_json(url+str(current_page)))\n",
    "        current_page += 1\n",
    "        \n",
    "    data.to_csv('issues_' + REPO + '.csv')\n",
    "    print('successfully created csv')\n",
    "    \n",
    "else:\n",
    "    print(response.status_code)"
   ]
  },
  {
   "cell_type": "code",
   "execution_count": null,
   "metadata": {},
   "outputs": [],
   "source": []
  },
  {
   "cell_type": "code",
   "execution_count": null,
   "metadata": {},
   "outputs": [],
   "source": []
  }
 ],
 "metadata": {
  "kernelspec": {
   "display_name": "Python 3",
   "language": "python",
   "name": "python3"
  },
  "language_info": {
   "codemirror_mode": {
    "name": "ipython",
    "version": 3
   },
   "file_extension": ".py",
   "mimetype": "text/x-python",
   "name": "python",
   "nbconvert_exporter": "python",
   "pygments_lexer": "ipython3",
   "version": "3.7.6"
  }
 },
 "nbformat": 4,
 "nbformat_minor": 2
}
